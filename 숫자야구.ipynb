{
 "cells": [
  {
   "cell_type": "markdown",
   "metadata": {},
   "source": [
    "# 1. 숫자야구"
   ]
  },
  {
   "cell_type": "code",
   "execution_count": 9,
   "metadata": {},
   "outputs": [
    {
     "name": "stdout",
     "output_type": "stream",
     "text": [
      "숫자 입력 : 819\n",
      " 3 strike !! 정답입니다 !!\n"
     ]
    }
   ],
   "source": [
    "# 숫자야구 machine \n",
    "import random\n",
    "ans = random.sample(range(1,10),3)\n",
    "while True:\n",
    "    #play = str(input(\"숫자 입력 : \"))\n",
    "# 3 ball ---------------------------------------------------------------------\n",
    "    if play[0] == str(ans[1]) or play[0] == str(ans[2]) and play[1] == str(ans[0]) or play[1] == str(ans[2]) and\\\n",
    "    play[2] == str(ans[0]) or play[2] == str(ans[1]):\n",
    "        print(\" 3 ball !!\")\n",
    "# 2 ball ---------------------------------------------------------------------\n",
    "    elif play[0] == str(ans[1]) or play[0] == str(ans[2]) and play[1] == str(ans[0]) or play[1] == str(ans[2]):\n",
    "        print(\" 2 ball !!\")\n",
    "    elif play[0] == str(ans[1]) or play[0] == str(ans[2]) and play[2] == str(ans[0]) or play[2] == str(ans[1]):\n",
    "        print(\" 2 ball !!\")\n",
    "    elif play[1] == str(ans[0]) or play[1] == str(ans[2]) and play[2] == str(ans[0]) or play[2] == str(ans[1]):\n",
    "        print(\" 2 ball !!\")\n",
    "# 1 ball ---------------------------------------------------------------------\n",
    "    elif play[0] == str(ans[1]) or play[0] == str(ans[2]):\n",
    "        print(\" 1 ball !!\")\n",
    "    elif play[1] == str(ans[0]) or play[1] == str(ans[2]):\n",
    "        print(\" 1 ball !!\")\n",
    "    elif play[2] == str(ans[0]) or play[2] == str(ans[1]):\n",
    "        print(\" 1 ball !!\")    \n",
    "# 1 strike ------------------------------------------------------------------    \n",
    "    if play[0] == str(ans[0]) and play[1] != str(ans[1]) and play[2] != str(ans[2]):\n",
    "        print(\" 1 strike !!\")\n",
    "    if play[0] != str(ans[0]) and play[1] == str(ans[1]) and play[2] != str(ans[2]):\n",
    "        print(\" 1 strike !!\")\n",
    "    if play[0] != str(ans[0]) and play[1] != str(ans[1]) and play[2] == str(ans[2]):\n",
    "        print(\" 1 strike !!\")\n",
    "# 2 strike ------------------------------------------------------------------         \n",
    "    if play[0] == str(ans[0]) and play[1] == str(ans[1]) and play[2] != str(ans[2]):\n",
    "        print(\" 2 strike !!\")\n",
    "    if play[0] == str(ans[0]) and play[1] != str(ans[1]) and play[2] == str(ans[2]):\n",
    "        print(\" 2 strike !!\")\n",
    "    if play[0] != str(ans[0]) and play[1] == str(ans[1]) and play[2] == str(ans[2]):\n",
    "        print(\" 2 strike !!\")\n",
    "# 3 strike ------------------------------------------------------------------ \n",
    "    if play[0] == str(ans[0]) and play[1] == str(ans[1]) and play[2] == str(ans[2]):\n",
    "        print(\" 3 strike !! 정답입니다 !!\")\n",
    "        break"
   ]
  },
  {
   "cell_type": "markdown",
   "metadata": {},
   "source": [
    "# 2. 구구단"
   ]
  },
  {
   "cell_type": "code",
   "execution_count": 13,
   "metadata": {},
   "outputs": [
    {
     "name": "stdout",
     "output_type": "stream",
     "text": [
      "몇 단 ? >> 2\n",
      "2 단 입니다.\n",
      "2  *  1  =  2\n",
      "2  *  2  =  4\n",
      "2  *  3  =  6\n",
      "2  *  4  =  8\n",
      "2  *  5  =  10\n",
      "2  *  6  =  12\n",
      "2  *  7  =  14\n",
      "2  *  8  =  16\n",
      "2  *  9  =  18\n"
     ]
    }
   ],
   "source": [
    "# 구구단 machine\n",
    "원하는_단 = int(input(\"몇 단 ? >> \"))\n",
    "print(원하는_단,\"단 입니다.\")\n",
    "for i in range(1,10):\n",
    "        print(원하는_단,\" * \",i,\" = \",i*원하는_단)"
   ]
  }
 ],
 "metadata": {
  "kernelspec": {
   "display_name": "Python 3",
   "language": "python",
   "name": "python3"
  },
  "language_info": {
   "codemirror_mode": {
    "name": "ipython",
    "version": 3
   },
   "file_extension": ".py",
   "mimetype": "text/x-python",
   "name": "python",
   "nbconvert_exporter": "python",
   "pygments_lexer": "ipython3",
   "version": "3.6.8"
  }
 },
 "nbformat": 4,
 "nbformat_minor": 2
}
