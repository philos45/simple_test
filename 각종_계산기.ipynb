{
 "cells": [
  {
   "cell_type": "markdown",
   "metadata": {},
   "source": [
    "# Question 2"
   ]
  },
  {
   "cell_type": "markdown",
   "metadata": {},
   "source": [
    "- 기차 탑승권 계산기"
   ]
  },
  {
   "cell_type": "code",
   "execution_count": 8,
   "metadata": {},
   "outputs": [],
   "source": [
    "def cal(sit, age, choice):\n",
    "    discount = 0\n",
    "    if sit == 2:\n",
    "        discount += 0.15\n",
    "    if age < 20:\n",
    "        discount += 0.2\n",
    "    if choice == 1:\n",
    "        discount += 0.5\n",
    "    if choice == 2:\n",
    "        discount += 0.50\n",
    "    if choice == 3:\n",
    "        discount += 0.60\n",
    "    return discount"
   ]
  },
  {
   "cell_type": "code",
   "execution_count": 33,
   "metadata": {},
   "outputs": [
    {
     "name": "stdout",
     "output_type": "stream",
     "text": [
      "===== 기차 탑승권 계산기 =====\n",
      "1. 좌석지정  2. 좌석미지정 : 2\n",
      "나이 입력 : 1\n",
      "1. 군인 2. 노약자/임산부 3. 유공자 4. 해당없음 : 3\n",
      "기차 탑승권 금액은 3000 원 입니다.\n"
     ]
    }
   ],
   "source": [
    "print(\"=\"*5,\"기차 탑승권 계산기\",\"=\"*5)\n",
    "자리 = int(input(\"1. 좌석지정  2. 좌석미지정 : \"))\n",
    "나이 = int(input(\"나이 입력 : \"))\n",
    "선택 = int(input(\"1. 군인 2. 노약자/임산부 3. 유공자 4. 해당없음 : \"))\n",
    "print(\"기차 탑승권 금액은 {} 원 입니다.\".format(int(60000*(1-cal(자리,나이,선택)))))"
   ]
  },
  {
   "cell_type": "markdown",
   "metadata": {},
   "source": [
    "# Question 3"
   ]
  },
  {
   "cell_type": "markdown",
   "metadata": {},
   "source": [
    "- 8자리 숫자 입력시 각 자리를 모두 더하는 계산기"
   ]
  },
  {
   "cell_type": "code",
   "execution_count": 15,
   "metadata": {},
   "outputs": [
    {
     "name": "stdout",
     "output_type": "stream",
     "text": [
      "숫자입력 : 25462581\n",
      "합 :  33\n"
     ]
    }
   ],
   "source": [
    "sum = 0\n",
    "num = str(input(\"숫자입력 : \"))\n",
    "for i in range(len(num)):\n",
    "    sum+=int(num[i])\n",
    "print(\"합 : \",sum)"
   ]
  },
  {
   "cell_type": "markdown",
   "metadata": {},
   "source": [
    "# Question 4"
   ]
  },
  {
   "cell_type": "markdown",
   "metadata": {},
   "source": [
    "- 평균 편차 분산 계산기"
   ]
  },
  {
   "cell_type": "code",
   "execution_count": 18,
   "metadata": {},
   "outputs": [
    {
     "name": "stdout",
     "output_type": "stream",
     "text": [
      "790\n"
     ]
    }
   ],
   "source": [
    "합 = 0\n",
    "for i in class_score:\n",
    "    합 += i\n",
    "print(합)"
   ]
  },
  {
   "cell_type": "code",
   "execution_count": 32,
   "metadata": {},
   "outputs": [
    {
     "name": "stdout",
     "output_type": "stream",
     "text": [
      "평균 79.0\n",
      "분산 189.0\n"
     ]
    }
   ],
   "source": [
    "class_score = [70, 60, 55, 75, 95, 90, 80, 80, 85, 100]\n",
    "분산_b = 0\n",
    "편차 = []\n",
    "평균 = 합/10\n",
    "for i in range(len(class_score)):\n",
    "    편차.append(class_score[i]-평균)\n",
    "    분산_b+=편차[i]**2\n",
    "분산 = 분산_b/10\n",
    "print(\"평균\",평균)\n",
    "print(\"분산\",분산)"
   ]
  }
 ],
 "metadata": {
  "kernelspec": {
   "display_name": "Python 3",
   "language": "python",
   "name": "python3"
  },
  "language_info": {
   "codemirror_mode": {
    "name": "ipython",
    "version": 3
   },
   "file_extension": ".py",
   "mimetype": "text/x-python",
   "name": "python",
   "nbconvert_exporter": "python",
   "pygments_lexer": "ipython3",
   "version": "3.6.8"
  }
 },
 "nbformat": 4,
 "nbformat_minor": 2
}
