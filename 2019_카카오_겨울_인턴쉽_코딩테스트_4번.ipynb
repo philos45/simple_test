{
 "cells": [
  {
   "cell_type": "markdown",
   "metadata": {},
   "source": [
    "# 04. room 배정 문제"
   ]
  },
  {
   "cell_type": "code",
   "execution_count": 1,
   "metadata": {},
   "outputs": [],
   "source": [
    "import collections\n",
    "def solution(k, room_number):\n",
    "    answer = []\n",
    "    for i in room_number:\n",
    "        if not i in list(collections.Counter(answer).keys()):\n",
    "            answer.append(i)\n",
    "        else:\n",
    "            for j in range(1,k-room_number[i]):\n",
    "                if not (room_number[i]+j in answer) & (room_number[i]+j<=k):\n",
    "                    answer.append(room_number[i]+j)\n",
    "                    break\n",
    "    return answer"
   ]
  },
  {
   "cell_type": "code",
   "execution_count": 2,
   "metadata": {},
   "outputs": [],
   "source": [
    "def solution(k, room_number):\n",
    "    answer = []\n",
    "    for i in range(0,len(room_number)):\n",
    "        if not room_number[i] in answer:\n",
    "            answer.append(room_number[i])\n",
    "        else:\n",
    "            for j in range(1,k-room_number[i]):\n",
    "                if not (room_number[i]+j in answer) & (room_number[i]+j<=k):\n",
    "                    answer.append(room_number[i]+j)\n",
    "                    break\n",
    "    return answer"
   ]
  }
 ],
 "metadata": {
  "kernelspec": {
   "display_name": "Python 3",
   "language": "python",
   "name": "python3"
  },
  "language_info": {
   "codemirror_mode": {
    "name": "ipython",
    "version": 3
   },
   "file_extension": ".py",
   "mimetype": "text/x-python",
   "name": "python",
   "nbconvert_exporter": "python",
   "pygments_lexer": "ipython3",
   "version": "3.7.4"
  }
 },
 "nbformat": 4,
 "nbformat_minor": 2
}
