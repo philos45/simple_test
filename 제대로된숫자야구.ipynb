{
 "cells": [
  {
   "cell_type": "code",
   "execution_count": 1,
   "metadata": {},
   "outputs": [],
   "source": [
    "import random"
   ]
  },
  {
   "cell_type": "code",
   "execution_count": 2,
   "metadata": {},
   "outputs": [],
   "source": [
    "num1,num2,num3 = random.randint(1,9),0,0\n",
    "while(True):\n",
    "    num2 = random.randint(1,9)\n",
    "    num3 = random.randint(1,9)\n",
    "    if(num1!=num2!=num3):\n",
    "        break\n",
    "target = str(num1)+str(num2)+str(num3)"
   ]
  },
  {
   "cell_type": "code",
   "execution_count": 3,
   "metadata": {},
   "outputs": [
    {
     "name": "stdout",
     "output_type": "stream",
     "text": [
      "숫자 입력 : 123\n",
      "1 BALL 0 STRIKE\n",
      "숫자 입력 : 456\n",
      "0 BALL 1 STRIKE\n",
      "숫자 입력 : 789\n",
      "0 BALL 1 STRIKE\n",
      "숫자 입력 : 159\n",
      "1 BALL 1 STRIKE\n",
      "숫자 입력 : 419\n",
      "0 BALL 3 STRIKE\n",
      "정답\n"
     ]
    }
   ],
   "source": [
    "while(True):\n",
    "    inputNum = input(\"숫자 입력 : \")\n",
    "    ball = 0\n",
    "    strike = 0\n",
    "    if(inputNum[0] == target[0]):\n",
    "        strike += 1    \n",
    "    if(inputNum[1] == target[1]):\n",
    "        strike += 1\n",
    "    if(inputNum[2] == target[2]):\n",
    "        strike += 1\n",
    "    if(inputNum[0] == target[1] or inputNum[0] == target[2]):\n",
    "        ball += 1\n",
    "    if(inputNum[1] == target[0] or inputNum[1] == target[2]):\n",
    "        ball += 1\n",
    "    if(inputNum[2] == target[0] or inputNum[2] == target[1]):\n",
    "        ball += 1\n",
    "    print(ball,\"BALL\", strike,\"STRIKE\")\n",
    "    if(strike == 3):\n",
    "        print(\"정답\")\n",
    "        break"
   ]
  },
  {
   "cell_type": "code",
   "execution_count": null,
   "metadata": {},
   "outputs": [],
   "source": []
  }
 ],
 "metadata": {
  "kernelspec": {
   "display_name": "Python 3",
   "language": "python",
   "name": "python3"
  },
  "language_info": {
   "codemirror_mode": {
    "name": "ipython",
    "version": 3
   },
   "file_extension": ".py",
   "mimetype": "text/x-python",
   "name": "python",
   "nbconvert_exporter": "python",
   "pygments_lexer": "ipython3",
   "version": "3.7.4"
  }
 },
 "nbformat": 4,
 "nbformat_minor": 2
}
